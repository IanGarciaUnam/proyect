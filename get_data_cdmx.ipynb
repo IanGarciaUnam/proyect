{
 "cells": [
  {
   "cell_type": "code",
   "execution_count": 2,
   "metadata": {
    "pycharm": {
     "name": "#%%\n"
    }
   },
   "outputs": [],
   "source": [
    "import pandas as pd\n",
    "import numpy as np\n"
   ]
  },
  {
   "cell_type": "code",
   "execution_count": 2,
   "metadata": {},
   "outputs": [],
   "source": [
    "filespath: str = 'data/raw_data/data_cdmx/'"
   ]
  },
  {
   "cell_type": "markdown",
   "metadata": {
    "pycharm": {
     "name": "#%%\n"
    }
   },
   "source": [
    "names: list = ['Álvaro Obregón',\n",
    "         'Azcapotzalco',\n",
    "         'Benito Juárez',\n",
    "         'Coyoacán',\n",
    "         'Cuajimalpa',\n",
    "         'Cuauhtémoc',\n",
    "         'Gustavo A. Madero',\n",
    "         'Iztacalco',\n",
    "         'Iztapalapa',\n",
    "         'Magdalena Contreras',\n",
    "         'Miguel Hidalgo',\n",
    "         'Milpa Alta',\n",
    "         'Tláhuac',\n",
    "         'Tlalpan',\n",
    "         'Venustiano Carranza',\n",
    "         'Xochimilco'\n",
    "         ]"
   ]
  },
  {
   "cell_type": "code",
   "execution_count": null,
   "metadata": {
    "pycharm": {
     "name": "#%% md\n"
    }
   },
   "outputs": [],
   "source": [
    "columns: list = ['calle_num', 'cp', 'colonia']\n",
    "\n",
    "for name in names:\n",
    "    town = pd.read_csv(filespath + name + '.csv')\n",
    "    data_town = town[columns]\n",
    "    data_town.dropna(inplace=True)\n",
    "    data_town['Alcaldía'] = name\n",
    "    data_town.to_csv(name + '_clean.csv', index=False)\n"
   ]
  },
  {
   "cell_type": "code",
   "execution_count": null,
   "metadata": {
    "pycharm": {
     "name": "#%%\n"
    }
   },
   "outputs": [],
   "source": [
    "df = pd.DataFrame({'call_numero':[],\n",
    "                   'codigo_postal': [],\n",
    "                   'colonia_predio': [],\n",
    "                   'Alcaldía': []})"
   ]
  },
  {
   "cell_type": "code",
   "execution_count": null,
   "metadata": {
    "pycharm": {
     "name": "#%%\n"
    }
   },
   "outputs": [],
   "source": [
    "for name in names:\n",
    "    data = pd.read_csv(filespath + name + '.csv')\n",
    "    df = df.append(data, ignore_index=True)\n",
    "\n",
    "df"
   ]
  },
  {
   "cell_type": "code",
   "execution_count": null,
   "metadata": {
    "pycharm": {
     "name": "#%%\n"
    }
   },
   "outputs": [],
   "source": [
    "df.drop_duplicates(inplace=True, ignore_index=True)"
   ]
  },
  {
   "cell_type": "code",
   "execution_count": null,
   "metadata": {
    "pycharm": {
     "name": "#%%\n"
    }
   },
   "outputs": [],
   "source": [
    "df.to_csv('all_cdmx_data.csv', index=False)"
   ]
  },
  {
   "cell_type": "code",
   "execution_count": 3,
   "metadata": {
    "pycharm": {
     "name": "#%%\n"
    }
   },
   "outputs": [],
   "source": [
    "filepath_ = 'data/raw_data/all_cdmx_data.csv'\n",
    "data_ = pd.read_csv(filepath_)"
   ]
  },
  {
   "cell_type": "code",
   "execution_count": 7,
   "metadata": {},
   "outputs": [
    {
     "data": {
      "text/html": [
       "<div>\n",
       "<style scoped>\n",
       "    .dataframe tbody tr th:only-of-type {\n",
       "        vertical-align: middle;\n",
       "    }\n",
       "\n",
       "    .dataframe tbody tr th {\n",
       "        vertical-align: top;\n",
       "    }\n",
       "\n",
       "    .dataframe thead th {\n",
       "        text-align: right;\n",
       "    }\n",
       "</style>\n",
       "<table border=\"1\" class=\"dataframe\">\n",
       "  <thead>\n",
       "    <tr style=\"text-align: right;\">\n",
       "      <th></th>\n",
       "      <th>calle_num</th>\n",
       "      <th>cp</th>\n",
       "      <th>colonia</th>\n",
       "      <th>alcaldia</th>\n",
       "    </tr>\n",
       "  </thead>\n",
       "  <tbody>\n",
       "    <tr>\n",
       "      <th>0</th>\n",
       "      <td>Anll. PERIFERICO BLVRD ADOLFO LOPEZ MATEOS, 723</td>\n",
       "      <td>01120</td>\n",
       "      <td>COVE</td>\n",
       "      <td>Álvaro Obregón</td>\n",
       "    </tr>\n",
       "    <tr>\n",
       "      <th>1</th>\n",
       "      <td>Cl. PONIENTE 81, 28 Edif. F, Dpto. 19</td>\n",
       "      <td>01120</td>\n",
       "      <td>COVE</td>\n",
       "      <td>Álvaro Obregón</td>\n",
       "    </tr>\n",
       "    <tr>\n",
       "      <th>2</th>\n",
       "      <td>Cl. PONIENTE 81, 28 Dpto. 101</td>\n",
       "      <td>01120</td>\n",
       "      <td>COVE</td>\n",
       "      <td>Álvaro Obregón</td>\n",
       "    </tr>\n",
       "    <tr>\n",
       "      <th>3</th>\n",
       "      <td>Cl. PONIENTE 81, 28 Dpto. 306</td>\n",
       "      <td>01120</td>\n",
       "      <td>COVE</td>\n",
       "      <td>Álvaro Obregón</td>\n",
       "    </tr>\n",
       "    <tr>\n",
       "      <th>4</th>\n",
       "      <td>Cl. PONIENTE 81, 28 Edif. H, Dpto. 28</td>\n",
       "      <td>01120</td>\n",
       "      <td>COVE</td>\n",
       "      <td>Álvaro Obregón</td>\n",
       "    </tr>\n",
       "    <tr>\n",
       "      <th>...</th>\n",
       "      <td>...</td>\n",
       "      <td>...</td>\n",
       "      <td>...</td>\n",
       "      <td>...</td>\n",
       "    </tr>\n",
       "    <tr>\n",
       "      <th>2171460</th>\n",
       "      <td>Cda. HUERTAS, 23-B</td>\n",
       "      <td>16880</td>\n",
       "      <td>PUEBLO SANTA CECILIA TEPETLAPA</td>\n",
       "      <td>Xochimilco</td>\n",
       "    </tr>\n",
       "    <tr>\n",
       "      <th>2171461</th>\n",
       "      <td>Cda. HUERTAS, 23-A</td>\n",
       "      <td>16880</td>\n",
       "      <td>PUEBLO SANTA CECILIA TEPETLAPA</td>\n",
       "      <td>Xochimilco</td>\n",
       "    </tr>\n",
       "    <tr>\n",
       "      <th>2171462</th>\n",
       "      <td>Cda. HUERTAS, 23-C</td>\n",
       "      <td>16880</td>\n",
       "      <td>PUEBLO SANTA CECILIA TEPETLAPA</td>\n",
       "      <td>Xochimilco</td>\n",
       "    </tr>\n",
       "    <tr>\n",
       "      <th>2171463</th>\n",
       "      <td>Cda. HUERTAS, 23-D</td>\n",
       "      <td>16880</td>\n",
       "      <td>PUEBLO SANTA CECILIA TEPETLAPA</td>\n",
       "      <td>Xochimilco</td>\n",
       "    </tr>\n",
       "    <tr>\n",
       "      <th>2171464</th>\n",
       "      <td>Cda. HUERTAS, 12</td>\n",
       "      <td>16880</td>\n",
       "      <td>PUEBLO SANTA CECILIA TEPETLAPA</td>\n",
       "      <td>Xochimilco</td>\n",
       "    </tr>\n",
       "  </tbody>\n",
       "</table>\n",
       "<p>2171465 rows × 4 columns</p>\n",
       "</div>"
      ],
      "text/plain": [
       "                                               calle_num     cp  \\\n",
       "0        Anll. PERIFERICO BLVRD ADOLFO LOPEZ MATEOS, 723  01120   \n",
       "1                  Cl. PONIENTE 81, 28 Edif. F, Dpto. 19  01120   \n",
       "2                          Cl. PONIENTE 81, 28 Dpto. 101  01120   \n",
       "3                          Cl. PONIENTE 81, 28 Dpto. 306  01120   \n",
       "4                  Cl. PONIENTE 81, 28 Edif. H, Dpto. 28  01120   \n",
       "...                                                  ...    ...   \n",
       "2171460                               Cda. HUERTAS, 23-B  16880   \n",
       "2171461                               Cda. HUERTAS, 23-A  16880   \n",
       "2171462                               Cda. HUERTAS, 23-C  16880   \n",
       "2171463                               Cda. HUERTAS, 23-D  16880   \n",
       "2171464                                 Cda. HUERTAS, 12  16880   \n",
       "\n",
       "                                colonia        alcaldia  \n",
       "0                                  COVE  Álvaro Obregón  \n",
       "1                                  COVE  Álvaro Obregón  \n",
       "2                                  COVE  Álvaro Obregón  \n",
       "3                                  COVE  Álvaro Obregón  \n",
       "4                                  COVE  Álvaro Obregón  \n",
       "...                                 ...             ...  \n",
       "2171460  PUEBLO SANTA CECILIA TEPETLAPA      Xochimilco  \n",
       "2171461  PUEBLO SANTA CECILIA TEPETLAPA      Xochimilco  \n",
       "2171462  PUEBLO SANTA CECILIA TEPETLAPA      Xochimilco  \n",
       "2171463  PUEBLO SANTA CECILIA TEPETLAPA      Xochimilco  \n",
       "2171464  PUEBLO SANTA CECILIA TEPETLAPA      Xochimilco  \n",
       "\n",
       "[2171465 rows x 4 columns]"
      ]
     },
     "execution_count": 7,
     "metadata": {},
     "output_type": "execute_result"
    }
   ],
   "source": [
    "data_"
   ]
  },
  {
   "cell_type": "code",
   "execution_count": 8,
   "metadata": {},
   "outputs": [],
   "source": [
    "data_ = data_[pd.to_numeric(data_['cp'], errors='coerce').notnull()]"
   ]
  },
  {
   "cell_type": "code",
   "execution_count": 11,
   "metadata": {},
   "outputs": [
    {
     "data": {
      "text/plain": [
       "dtype('O')"
      ]
     },
     "execution_count": 11,
     "metadata": {},
     "output_type": "execute_result"
    }
   ],
   "source": []
  },
  {
   "cell_type": "code",
   "execution_count": 12,
   "metadata": {},
   "outputs": [],
   "source": [
    "data_.to_csv('data/raw_data/all_cdmx_data.csv', index=False)"
   ]
  },
  {
   "cell_type": "code",
   "execution_count": null,
   "metadata": {},
   "outputs": [],
   "source": []
  },
  {
   "cell_type": "code",
   "execution_count": 5,
   "metadata": {},
   "outputs": [
    {
     "data": {
      "text/plain": [
       "calle_num     object\n",
       "cp           float64\n",
       "colonia       object\n",
       "alcaldia      object\n",
       "dtype: object"
      ]
     },
     "execution_count": 5,
     "metadata": {},
     "output_type": "execute_result"
    }
   ],
   "source": [
    "data_.dtypes"
   ]
  },
  {
   "cell_type": "code",
   "execution_count": 13,
   "metadata": {},
   "outputs": [],
   "source": [
    "cps = []\n",
    "\n",
    "for cp in data_['cp']:\n",
    "    cp = str(cp).replace('.', '')[0:5]\n",
    "    cps.append(cp)\n"
   ]
  },
  {
   "cell_type": "code",
   "execution_count": 14,
   "metadata": {},
   "outputs": [
    {
     "data": {
      "text/html": [
       "<div>\n",
       "<style scoped>\n",
       "    .dataframe tbody tr th:only-of-type {\n",
       "        vertical-align: middle;\n",
       "    }\n",
       "\n",
       "    .dataframe tbody tr th {\n",
       "        vertical-align: top;\n",
       "    }\n",
       "\n",
       "    .dataframe thead th {\n",
       "        text-align: right;\n",
       "    }\n",
       "</style>\n",
       "<table border=\"1\" class=\"dataframe\">\n",
       "  <thead>\n",
       "    <tr style=\"text-align: right;\">\n",
       "      <th></th>\n",
       "      <th>calle_num</th>\n",
       "      <th>cp</th>\n",
       "      <th>colonia</th>\n",
       "      <th>alcaldia</th>\n",
       "    </tr>\n",
       "  </thead>\n",
       "  <tbody>\n",
       "    <tr>\n",
       "      <th>0</th>\n",
       "      <td>Anll. PERIFERICO BLVRD ADOLFO LOPEZ MATEOS, 723</td>\n",
       "      <td>1120.0</td>\n",
       "      <td>COVE</td>\n",
       "      <td>Álvaro Obregón</td>\n",
       "    </tr>\n",
       "    <tr>\n",
       "      <th>1</th>\n",
       "      <td>Cl. PONIENTE 81, 28 Edif. F, Dpto. 19</td>\n",
       "      <td>1120.0</td>\n",
       "      <td>COVE</td>\n",
       "      <td>Álvaro Obregón</td>\n",
       "    </tr>\n",
       "    <tr>\n",
       "      <th>2</th>\n",
       "      <td>Cl. PONIENTE 81, 28 Dpto. 101</td>\n",
       "      <td>1120.0</td>\n",
       "      <td>COVE</td>\n",
       "      <td>Álvaro Obregón</td>\n",
       "    </tr>\n",
       "    <tr>\n",
       "      <th>3</th>\n",
       "      <td>Cl. PONIENTE 81, 28 Dpto. 306</td>\n",
       "      <td>1120.0</td>\n",
       "      <td>COVE</td>\n",
       "      <td>Álvaro Obregón</td>\n",
       "    </tr>\n",
       "    <tr>\n",
       "      <th>4</th>\n",
       "      <td>Cl. PONIENTE 81, 28 Edif. H, Dpto. 28</td>\n",
       "      <td>1120.0</td>\n",
       "      <td>COVE</td>\n",
       "      <td>Álvaro Obregón</td>\n",
       "    </tr>\n",
       "    <tr>\n",
       "      <th>...</th>\n",
       "      <td>...</td>\n",
       "      <td>...</td>\n",
       "      <td>...</td>\n",
       "      <td>...</td>\n",
       "    </tr>\n",
       "    <tr>\n",
       "      <th>2170986</th>\n",
       "      <td>Cda. HUERTAS, 23-B</td>\n",
       "      <td>16880.0</td>\n",
       "      <td>PUEBLO SANTA CECILIA TEPETLAPA</td>\n",
       "      <td>Xochimilco</td>\n",
       "    </tr>\n",
       "    <tr>\n",
       "      <th>2170987</th>\n",
       "      <td>Cda. HUERTAS, 23-A</td>\n",
       "      <td>16880.0</td>\n",
       "      <td>PUEBLO SANTA CECILIA TEPETLAPA</td>\n",
       "      <td>Xochimilco</td>\n",
       "    </tr>\n",
       "    <tr>\n",
       "      <th>2170988</th>\n",
       "      <td>Cda. HUERTAS, 23-C</td>\n",
       "      <td>16880.0</td>\n",
       "      <td>PUEBLO SANTA CECILIA TEPETLAPA</td>\n",
       "      <td>Xochimilco</td>\n",
       "    </tr>\n",
       "    <tr>\n",
       "      <th>2170989</th>\n",
       "      <td>Cda. HUERTAS, 23-D</td>\n",
       "      <td>16880.0</td>\n",
       "      <td>PUEBLO SANTA CECILIA TEPETLAPA</td>\n",
       "      <td>Xochimilco</td>\n",
       "    </tr>\n",
       "    <tr>\n",
       "      <th>2170990</th>\n",
       "      <td>Cda. HUERTAS, 12</td>\n",
       "      <td>16880.0</td>\n",
       "      <td>PUEBLO SANTA CECILIA TEPETLAPA</td>\n",
       "      <td>Xochimilco</td>\n",
       "    </tr>\n",
       "  </tbody>\n",
       "</table>\n",
       "<p>2170991 rows × 4 columns</p>\n",
       "</div>"
      ],
      "text/plain": [
       "                                               calle_num       cp  \\\n",
       "0        Anll. PERIFERICO BLVRD ADOLFO LOPEZ MATEOS, 723   1120.0   \n",
       "1                  Cl. PONIENTE 81, 28 Edif. F, Dpto. 19   1120.0   \n",
       "2                          Cl. PONIENTE 81, 28 Dpto. 101   1120.0   \n",
       "3                          Cl. PONIENTE 81, 28 Dpto. 306   1120.0   \n",
       "4                  Cl. PONIENTE 81, 28 Edif. H, Dpto. 28   1120.0   \n",
       "...                                                  ...      ...   \n",
       "2170986                               Cda. HUERTAS, 23-B  16880.0   \n",
       "2170987                               Cda. HUERTAS, 23-A  16880.0   \n",
       "2170988                               Cda. HUERTAS, 23-C  16880.0   \n",
       "2170989                               Cda. HUERTAS, 23-D  16880.0   \n",
       "2170990                                 Cda. HUERTAS, 12  16880.0   \n",
       "\n",
       "                                colonia        alcaldia  \n",
       "0                                  COVE  Álvaro Obregón  \n",
       "1                                  COVE  Álvaro Obregón  \n",
       "2                                  COVE  Álvaro Obregón  \n",
       "3                                  COVE  Álvaro Obregón  \n",
       "4                                  COVE  Álvaro Obregón  \n",
       "...                                 ...             ...  \n",
       "2170986  PUEBLO SANTA CECILIA TEPETLAPA      Xochimilco  \n",
       "2170987  PUEBLO SANTA CECILIA TEPETLAPA      Xochimilco  \n",
       "2170988  PUEBLO SANTA CECILIA TEPETLAPA      Xochimilco  \n",
       "2170989  PUEBLO SANTA CECILIA TEPETLAPA      Xochimilco  \n",
       "2170990  PUEBLO SANTA CECILIA TEPETLAPA      Xochimilco  \n",
       "\n",
       "[2170991 rows x 4 columns]"
      ]
     },
     "execution_count": 14,
     "metadata": {},
     "output_type": "execute_result"
    }
   ],
   "source": [
    "data_"
   ]
  },
  {
   "cell_type": "code",
   "execution_count": 15,
   "metadata": {},
   "outputs": [],
   "source": [
    "data_['cp'] = cps"
   ]
  },
  {
   "cell_type": "code",
   "execution_count": 16,
   "metadata": {},
   "outputs": [
    {
     "data": {
      "text/html": [
       "<div>\n",
       "<style scoped>\n",
       "    .dataframe tbody tr th:only-of-type {\n",
       "        vertical-align: middle;\n",
       "    }\n",
       "\n",
       "    .dataframe tbody tr th {\n",
       "        vertical-align: top;\n",
       "    }\n",
       "\n",
       "    .dataframe thead th {\n",
       "        text-align: right;\n",
       "    }\n",
       "</style>\n",
       "<table border=\"1\" class=\"dataframe\">\n",
       "  <thead>\n",
       "    <tr style=\"text-align: right;\">\n",
       "      <th></th>\n",
       "      <th>calle_num</th>\n",
       "      <th>cp</th>\n",
       "      <th>colonia</th>\n",
       "      <th>alcaldia</th>\n",
       "    </tr>\n",
       "  </thead>\n",
       "  <tbody>\n",
       "    <tr>\n",
       "      <th>0</th>\n",
       "      <td>Anll. PERIFERICO BLVRD ADOLFO LOPEZ MATEOS, 723</td>\n",
       "      <td>11200</td>\n",
       "      <td>COVE</td>\n",
       "      <td>Álvaro Obregón</td>\n",
       "    </tr>\n",
       "    <tr>\n",
       "      <th>1</th>\n",
       "      <td>Cl. PONIENTE 81, 28 Edif. F, Dpto. 19</td>\n",
       "      <td>11200</td>\n",
       "      <td>COVE</td>\n",
       "      <td>Álvaro Obregón</td>\n",
       "    </tr>\n",
       "    <tr>\n",
       "      <th>2</th>\n",
       "      <td>Cl. PONIENTE 81, 28 Dpto. 101</td>\n",
       "      <td>11200</td>\n",
       "      <td>COVE</td>\n",
       "      <td>Álvaro Obregón</td>\n",
       "    </tr>\n",
       "    <tr>\n",
       "      <th>3</th>\n",
       "      <td>Cl. PONIENTE 81, 28 Dpto. 306</td>\n",
       "      <td>11200</td>\n",
       "      <td>COVE</td>\n",
       "      <td>Álvaro Obregón</td>\n",
       "    </tr>\n",
       "    <tr>\n",
       "      <th>4</th>\n",
       "      <td>Cl. PONIENTE 81, 28 Edif. H, Dpto. 28</td>\n",
       "      <td>11200</td>\n",
       "      <td>COVE</td>\n",
       "      <td>Álvaro Obregón</td>\n",
       "    </tr>\n",
       "    <tr>\n",
       "      <th>...</th>\n",
       "      <td>...</td>\n",
       "      <td>...</td>\n",
       "      <td>...</td>\n",
       "      <td>...</td>\n",
       "    </tr>\n",
       "    <tr>\n",
       "      <th>2170986</th>\n",
       "      <td>Cda. HUERTAS, 23-B</td>\n",
       "      <td>16880</td>\n",
       "      <td>PUEBLO SANTA CECILIA TEPETLAPA</td>\n",
       "      <td>Xochimilco</td>\n",
       "    </tr>\n",
       "    <tr>\n",
       "      <th>2170987</th>\n",
       "      <td>Cda. HUERTAS, 23-A</td>\n",
       "      <td>16880</td>\n",
       "      <td>PUEBLO SANTA CECILIA TEPETLAPA</td>\n",
       "      <td>Xochimilco</td>\n",
       "    </tr>\n",
       "    <tr>\n",
       "      <th>2170988</th>\n",
       "      <td>Cda. HUERTAS, 23-C</td>\n",
       "      <td>16880</td>\n",
       "      <td>PUEBLO SANTA CECILIA TEPETLAPA</td>\n",
       "      <td>Xochimilco</td>\n",
       "    </tr>\n",
       "    <tr>\n",
       "      <th>2170989</th>\n",
       "      <td>Cda. HUERTAS, 23-D</td>\n",
       "      <td>16880</td>\n",
       "      <td>PUEBLO SANTA CECILIA TEPETLAPA</td>\n",
       "      <td>Xochimilco</td>\n",
       "    </tr>\n",
       "    <tr>\n",
       "      <th>2170990</th>\n",
       "      <td>Cda. HUERTAS, 12</td>\n",
       "      <td>16880</td>\n",
       "      <td>PUEBLO SANTA CECILIA TEPETLAPA</td>\n",
       "      <td>Xochimilco</td>\n",
       "    </tr>\n",
       "  </tbody>\n",
       "</table>\n",
       "<p>2170991 rows × 4 columns</p>\n",
       "</div>"
      ],
      "text/plain": [
       "                                               calle_num     cp  \\\n",
       "0        Anll. PERIFERICO BLVRD ADOLFO LOPEZ MATEOS, 723  11200   \n",
       "1                  Cl. PONIENTE 81, 28 Edif. F, Dpto. 19  11200   \n",
       "2                          Cl. PONIENTE 81, 28 Dpto. 101  11200   \n",
       "3                          Cl. PONIENTE 81, 28 Dpto. 306  11200   \n",
       "4                  Cl. PONIENTE 81, 28 Edif. H, Dpto. 28  11200   \n",
       "...                                                  ...    ...   \n",
       "2170986                               Cda. HUERTAS, 23-B  16880   \n",
       "2170987                               Cda. HUERTAS, 23-A  16880   \n",
       "2170988                               Cda. HUERTAS, 23-C  16880   \n",
       "2170989                               Cda. HUERTAS, 23-D  16880   \n",
       "2170990                                 Cda. HUERTAS, 12  16880   \n",
       "\n",
       "                                colonia        alcaldia  \n",
       "0                                  COVE  Álvaro Obregón  \n",
       "1                                  COVE  Álvaro Obregón  \n",
       "2                                  COVE  Álvaro Obregón  \n",
       "3                                  COVE  Álvaro Obregón  \n",
       "4                                  COVE  Álvaro Obregón  \n",
       "...                                 ...             ...  \n",
       "2170986  PUEBLO SANTA CECILIA TEPETLAPA      Xochimilco  \n",
       "2170987  PUEBLO SANTA CECILIA TEPETLAPA      Xochimilco  \n",
       "2170988  PUEBLO SANTA CECILIA TEPETLAPA      Xochimilco  \n",
       "2170989  PUEBLO SANTA CECILIA TEPETLAPA      Xochimilco  \n",
       "2170990  PUEBLO SANTA CECILIA TEPETLAPA      Xochimilco  \n",
       "\n",
       "[2170991 rows x 4 columns]"
      ]
     },
     "execution_count": 16,
     "metadata": {},
     "output_type": "execute_result"
    }
   ],
   "source": [
    "data_"
   ]
  },
  {
   "cell_type": "code",
   "execution_count": 17,
   "metadata": {},
   "outputs": [],
   "source": [
    "data_.to_csv('data/raw_data/all_cdmx_data.csv', index=False)"
   ]
  },
  {
   "cell_type": "code",
   "execution_count": null,
   "metadata": {},
   "outputs": [],
   "source": []
  }
 ],
 "metadata": {
  "kernelspec": {
   "display_name": "py3.8.10",
   "language": "python",
   "name": "python3"
  },
  "language_info": {
   "codemirror_mode": {
    "name": "ipython",
    "version": 3
   },
   "file_extension": ".py",
   "mimetype": "text/x-python",
   "name": "python",
   "nbconvert_exporter": "python",
   "pygments_lexer": "ipython3",
   "version": "3.8.10"
  }
 },
 "nbformat": 4,
 "nbformat_minor": 1
}
